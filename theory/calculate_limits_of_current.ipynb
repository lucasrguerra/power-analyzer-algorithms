{
 "cells": [
  {
   "cell_type": "code",
   "execution_count": 10,
   "metadata": {},
   "outputs": [
    {
     "name": "stdout",
     "output_type": "stream",
     "text": [
      "Defaulting to user installation because normal site-packages is not writeable\n",
      "Collecting tabulate\n",
      "  Using cached tabulate-0.9.0-py3-none-any.whl.metadata (34 kB)\n",
      "Using cached tabulate-0.9.0-py3-none-any.whl (35 kB)\n",
      "Installing collected packages: tabulate\n",
      "Successfully installed tabulate-0.9.0\n"
     ]
    }
   ],
   "source": [
    "%pip install tabulate"
   ]
  },
  {
   "cell_type": "code",
   "execution_count": 6,
   "metadata": {},
   "outputs": [],
   "source": [
    "reference_voltage = 1.65\n",
    "raise_of_three = 3 ** 0.5\n",
    "\n",
    "\n",
    "\n",
    "def calculate_data(current_ratio, input_current, feedback_resistor):\n",
    "    transformer_current = input_current / current_ratio\n",
    "    output_voltage = transformer_current * feedback_resistor\n",
    "    output_peak_voltage = output_voltage * raise_of_three\n",
    "    output_peak_to_peak_voltage = output_peak_voltage * 2\n",
    "    output_max_voltage = reference_voltage + output_peak_voltage \n",
    "    output_min_voltage = reference_voltage - output_peak_voltage\n",
    "\n",
    "    return [f\"{transformer_current:.5f}\", f\"{output_voltage:.5f}\", f\"{output_peak_voltage:.5f}\", f\"{output_peak_to_peak_voltage:.5f}\", f\"{output_max_voltage:.5f}\", f\"{output_min_voltage:.5f}\"]"
   ]
  },
  {
   "cell_type": "code",
   "execution_count": 9,
   "metadata": {},
   "outputs": [
    {
     "name": "stdout",
     "output_type": "stream",
     "text": [
      "  Transformer Current    Output Voltage    Output Peak Voltage    Output Peak to Peak Voltage    Output Max Voltage    Output Min Voltage\n",
      "---------------------  ----------------  ---------------------  -----------------------------  --------------------  --------------------\n",
      "              0.33333           0.73333                1.27017                        2.54034               2.92017               0.37983\n",
      "              0.25              0.75                   1.29904                        2.59808               2.94904               0.35096\n",
      "              0.16667           0.65                   1.12583                        2.25167               2.77583               0.52417\n",
      "              0.1               0.68                   1.17779                        2.35559               2.82779               0.47221\n",
      "              0.06667           0.66667                1.1547                         2.3094                2.8047                0.4953\n",
      "              0.04              0.72                   1.24708                        2.49415               2.89708               0.40292\n",
      "              0.02667           0.72                   1.24708                        2.49415               2.89708               0.40292\n",
      "              0.05              0.75                   1.29904                        2.59808               2.94904               0.35096\n",
      "              0.01              0.75                   1.29904                        2.59808               2.94904               0.35096\n"
     ]
    }
   ],
   "source": [
    "from tabulate import tabulate\n",
    "print(tabulate([\n",
    "    calculate_data(3000, 1000, 2.2),\n",
    "    calculate_data(3000, 750, 3),\n",
    "    calculate_data(3000, 500, 3.9),\n",
    "    calculate_data(3000, 300, 6.8),\n",
    "    calculate_data(3000, 200, 10),\n",
    "    calculate_data(3000, 120, 18),\n",
    "    calculate_data(3000, 80, 27),\n",
    "    calculate_data(2000, 100, 15),\n",
    "    calculate_data(2000, 20, 75),\n",
    "], headers=[\"Transformer Current\", \"Output Voltage\", \"Output Peak Voltage\", \"Output Peak to Peak Voltage\", \"Output Max Voltage\", \"Output Min Voltage\"]))"
   ]
  },
  {
   "cell_type": "code",
   "execution_count": null,
   "metadata": {},
   "outputs": [],
   "source": []
  }
 ],
 "metadata": {
  "kernelspec": {
   "display_name": "Python 3",
   "language": "python",
   "name": "python3"
  },
  "language_info": {
   "codemirror_mode": {
    "name": "ipython",
    "version": 3
   },
   "file_extension": ".py",
   "mimetype": "text/x-python",
   "name": "python",
   "nbconvert_exporter": "python",
   "pygments_lexer": "ipython3",
   "version": "3.12.2"
  }
 },
 "nbformat": 4,
 "nbformat_minor": 2
}
