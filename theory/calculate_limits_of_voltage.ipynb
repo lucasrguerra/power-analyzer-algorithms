{
 "cells": [
  {
   "cell_type": "code",
   "execution_count": 1,
   "metadata": {},
   "outputs": [
    {
     "name": "stdout",
     "output_type": "stream",
     "text": [
      "Defaulting to user installation because normal site-packages is not writeable\n",
      "Requirement already satisfied: tabulate in c:\\users\\lucasrguerra\\appdata\\roaming\\python\\python312\\site-packages (0.9.0)\n"
     ]
    }
   ],
   "source": [
    "%pip install tabulate"
   ]
  },
  {
   "cell_type": "code",
   "execution_count": 18,
   "metadata": {},
   "outputs": [],
   "source": [
    "reference_voltage = 1.65\n",
    "raise_of_three = 3 ** 0.5\n",
    "\n",
    "\n",
    "\n",
    "def calculate_data(max_voltage, shunt_resistor, feedback_resistor):\n",
    "    input_voltage = max_voltage * raise_of_three\n",
    "    transformer_current = input_voltage / shunt_resistor\n",
    "    output_voltage = transformer_current * feedback_resistor\n",
    "    output_peak_voltage = output_voltage * raise_of_three\n",
    "    output_peak_to_peak_voltage = output_peak_voltage * 2\n",
    "    output_max_voltage = reference_voltage + output_peak_voltage\n",
    "    output_min_voltage = reference_voltage - output_peak_voltage\n",
    "    transform_ratio = input_voltage / output_voltage\n",
    "    \n",
    "\n",
    "    return [f\"{transformer_current:.5f}\", f\"{output_voltage:.5f}\", f\"{output_peak_voltage:.5f}\", f\"{output_peak_to_peak_voltage:.5f}\", f\"{output_max_voltage:.5f}\", f\"{output_min_voltage:.5f}\", f\"{transform_ratio:.5f}\"]"
   ]
  },
  {
   "cell_type": "code",
   "execution_count": 20,
   "metadata": {},
   "outputs": [
    {
     "name": "stdout",
     "output_type": "stream",
     "text": [
      "  Tranformer Current (A)    Output Voltage (V)    Output Peak Voltage (V)    Output Peak to Peak Voltage (V)    Output Max Voltage (V)    Output Min Voltage (V)    Transform Ratio\n",
      "------------------------  --------------------  -------------------------  ---------------------------------  ------------------------  ------------------------  -----------------\n",
      "                 0.00161               0.69367                    1.20147                            2.40294                   2.85147                   0.44853           1186.05\n",
      "                 0.00162               0.69724                    1.20766                            2.41532                   2.85766                   0.44234           1093.02\n",
      "                 0.00159               0.68272                    1.1825                             2.365                     2.8325                    0.4675             697.674\n",
      "                 0.00168               0.72409                    1.25417                            2.50833                   2.90417                   0.39583            418.605\n"
     ]
    }
   ],
   "source": [
    "from tabulate import tabulate\n",
    "print(tabulate([\n",
    "    calculate_data(475, 510000, 430),\n",
    "    calculate_data(440, 470000, 430),\n",
    "    calculate_data(275, 300000, 430),\n",
    "    calculate_data(175, 180000, 430)\n",
    "], headers=[\"Tranformer Current (A)\", \"Output Voltage (V)\", \"Output Peak Voltage (V)\", \"Output Peak to Peak Voltage (V)\", \"Output Max Voltage (V)\", \"Output Min Voltage (V)\", \"Transform Ratio\"]))"
   ]
  },
  {
   "cell_type": "code",
   "execution_count": null,
   "metadata": {},
   "outputs": [],
   "source": []
  }
 ],
 "metadata": {
  "kernelspec": {
   "display_name": "Python 3",
   "language": "python",
   "name": "python3"
  },
  "language_info": {
   "codemirror_mode": {
    "name": "ipython",
    "version": 3
   },
   "file_extension": ".py",
   "mimetype": "text/x-python",
   "name": "python",
   "nbconvert_exporter": "python",
   "pygments_lexer": "ipython3",
   "version": "3.12.2"
  }
 },
 "nbformat": 4,
 "nbformat_minor": 2
}
